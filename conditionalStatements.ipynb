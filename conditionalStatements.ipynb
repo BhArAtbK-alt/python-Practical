{
 "cells": [
  {
   "cell_type": "code",
   "execution_count": 48,
   "id": "a7c26a94-3ddb-49a4-b363-8b0058978f08",
   "metadata": {},
   "outputs": [
    {
     "data": {
      "text/plain": [
       "'\\nGiven a string \\'s\\' consisting of only the characters \\'a\\' and \\'b\\', return true if every \\'a\\' appears before every \\'b\\' in the string.\\nOtherwise, return false.\\n\\nExample 1:\\nInput: s = \"aaabbb\"\\nOutput: true\\nExplanation:\\nThe \\'a\\'s are at indices 0, 1, and 2, while the \\'b\\'s are at indices 3, 4, and 5.\\nHence, every \\'a\\' appears before every \\'b\\' and we return true.c\\n\\nExample 2:\\nInput: s = \"abab\"\\nOutput: false\\nExplanation:\\nThere is an \\'a\\' at index 2 and a \\'b\\' at index 1.\\nHence, not every \\'a\\' appears before every \\'b\\' and we return false.\\n\\nExample 3:\\nInput: s = \"bbb\"\\nOutput: true\\nExplanation:\\nThere are no \\'a\\'s, hence, every \\'a\\' appears before every \\'b\\' and we return true.\\n'"
      ]
     },
     "execution_count": 48,
     "metadata": {},
     "output_type": "execute_result"
    }
   ],
   "source": [
    "'''\n",
    "Given a string 's' consisting of only the characters 'a' and 'b', return true if every 'a' appears before every 'b' in the string.\n",
    "Otherwise, return false.\n",
    "\n",
    "Example 1:\n",
    "Input: s = \"aaabbb\"\n",
    "Output: true\n",
    "Explanation:\n",
    "The 'a's are at indices 0, 1, and 2, while the 'b's are at indices 3, 4, and 5.\n",
    "Hence, every 'a' appears before every 'b' and we return true.c\n",
    "\n",
    "Example 2:\n",
    "Input: s = \"abab\"\n",
    "Output: false\n",
    "Explanation:\n",
    "There is an 'a' at index 2 and a 'b' at index 1.\n",
    "Hence, not every 'a' appears before every 'b' and we return false.\n",
    "\n",
    "Example 3:\n",
    "Input: s = \"bbb\"\n",
    "Output: true\n",
    "Explanation:\n",
    "There are no 'a's, hence, every 'a' appears before every 'b' and we return true.\n",
    "'''"
   ]
  },
  {
   "cell_type": "code",
   "execution_count": 49,
   "id": "a47fe35c-3daa-4bf5-b252-6c47b51d7abd",
   "metadata": {},
   "outputs": [
    {
     "name": "stdout",
     "output_type": "stream",
     "text": [
      "False\n"
     ]
    }
   ],
   "source": [
    "class conditionalStatements:\n",
    "    def checkString (self , p: str) -> bool: \n",
    "    \n",
    "        found_b = False\n",
    "    \n",
    "        for char in p:\n",
    "            if char == 'b':\n",
    "                found_b = True\n",
    "            elif char == 'a' and found_b:\n",
    "                return False \n",
    "                 \n",
    "        return True\n",
    "    \n",
    "if __name__ == '__main__':\n",
    "    condition = conditionalStatements()\n",
    "    User_write = str(input(\"Enter in your input only(A/B)\"))\n",
    "    result = condition.checkString(User_write.lower())\n",
    "    print(result)\n",
    "\n",
    "    \n",
    "        \n",
    "    \n",
    "\n"
   ]
  },
  {
   "cell_type": "code",
   "execution_count": 47,
   "id": "b38a887d-6851-4bf1-a103-62b50c043d8a",
   "metadata": {},
   "outputs": [],
   "source": [
    "# "
   ]
  },
  {
   "cell_type": "code",
   "execution_count": null,
   "id": "84490a35",
   "metadata": {},
   "outputs": [],
   "source": []
  }
 ],
 "metadata": {
  "kernelspec": {
   "display_name": "Python 3",
   "language": "python",
   "name": "python3"
  },
  "language_info": {
   "codemirror_mode": {
    "name": "ipython",
    "version": 3
   },
   "file_extension": ".py",
   "mimetype": "text/x-python",
   "name": "python",
   "nbconvert_exporter": "python",
   "pygments_lexer": "ipython3",
   "version": "3.11.9"
  }
 },
 "nbformat": 4,
 "nbformat_minor": 5
}
