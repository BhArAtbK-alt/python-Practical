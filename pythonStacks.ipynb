{
 "cells": [
  {
   "cell_type": "markdown",
   "id": "6a427a71-bdd0-4d02-8de6-9c523d0e1953",
   "metadata": {},
   "source": [
    "### Stack"
   ]
  },
  {
   "cell_type": "code",
   "execution_count": 1,
   "id": "312d2253-cfe8-4dab-8d9c-f23e328524e0",
   "metadata": {},
   "outputs": [
    {
     "name": "stdout",
     "output_type": "stream",
     "text": [
      "Initial Stack\n",
      "['a', 'b', 'c']\n"
     ]
    }
   ],
   "source": [
    "stack = list ()\n",
    "\n",
    "# Append Operation\n",
    "stack.append ('a')\n",
    "stack.append ('b')\n",
    "stack.append ('c')\n",
    "print ('Initial Stack')\n",
    "print (stack)"
   ]
  },
  {
   "cell_type": "code",
   "execution_count": 2,
   "id": "b3337f3f-2969-4587-895b-a7c985dbd88e",
   "metadata": {},
   "outputs": [
    {
     "name": "stdout",
     "output_type": "stream",
     "text": [
      "c\n",
      "b\n",
      "a\n",
      "[]\n"
     ]
    }
   ],
   "source": [
    "# Pop Operation\n",
    "print (stack.pop ())\n",
    "print (stack.pop ())\n",
    "print (stack.pop ())\n",
    "print (stack)"
   ]
  },
  {
   "cell_type": "code",
   "execution_count": 3,
   "id": "19942dce-8407-4871-a318-b92278b573aa",
   "metadata": {},
   "outputs": [
    {
     "data": {
      "text/plain": [
       "'\\nGiven a valid parentheses string stringInput, return the nesting depth of stringInput.\\nThe nesting depth is the maximum number of nested parentheses.\\n\\nExample 1:\\nInput: s = \"(1+(2*3)+((8)/4))+1\"\\nOutput: 3\\nExplanation:\\nDigit 8 is inside of 3 nested parentheses in the string.\\n\\nExample 2:\\nInput: s = \"(1)+((2))+(((3)))\"\\nOutput: 3\\nExplanation:\\nDigit 3 is inside of 3 nested parentheses in the string.\\n\\nExample 3:\\nInput: s = \"()(())((()()))\"\\nOutput: 3\\n'"
      ]
     },
     "execution_count": 3,
     "metadata": {},
     "output_type": "execute_result"
    }
   ],
   "source": [
    "'''\n",
    "Given a valid parentheses string stringInput, return the nesting depth of stringInput.\n",
    "The nesting depth is the maximum number of nested parentheses.\n",
    "\n",
    "Example 1:\n",
    "Input: s = \"(1+(2*3)+((8)/4))+1\"\n",
    "Output: 3\n",
    "Explanation:\n",
    "Digit 8 is inside of 3 nested parentheses in the string.\n",
    "\n",
    "Example 2:\n",
    "Input: s = \"(1)+((2))+(((3)))\"\n",
    "Output: 3\n",
    "Explanation:\n",
    "Digit 3 is inside of 3 nested parentheses in the string.\n",
    "\n",
    "Example 3:\n",
    "Input: s = \"()(())((()()))\"\n",
    "Output: 3\n",
    "'''"
   ]
  },
  {
   "cell_type": "code",
   "execution_count": 30,
   "id": "aab626b3-8afb-4531-8418-70f52bd188d4",
   "metadata": {},
   "outputs": [
    {
     "name": "stdout",
     "output_type": "stream",
     "text": [
      "3\n"
     ]
    }
   ],
   "source": [
    "class StackDepth:\n",
    "    def maximumDepth (self, stringInput: str) -> int:\n",
    "        max_depth = 0\n",
    "        current_depth = 0\n",
    "        stack = list()\n",
    "        \n",
    "        for _ in range(len(stringInput)):\n",
    "            if stringInput[_] == '(' :\n",
    "               stack.append(stringInput[_])\n",
    "               current_depth += 1  \n",
    "               max_depth = max(max_depth , current_depth)\n",
    "\n",
    "            elif stringInput == ')' :\n",
    "               stack.pop()\n",
    "               current_depth -= 1\n",
    "            else :\n",
    "                 stack == None \n",
    "                 current_depth = 0    \n",
    "        return max_depth\n",
    "    \n",
    "obj = StackDepth()\n",
    "print(obj.maximumDepth(\"(6/3))(7)+(((5)))\"))\n",
    "\n",
    "\n",
    "                       \n"
   ]
  },
  {
   "cell_type": "code",
   "execution_count": null,
   "id": "4d064b7f",
   "metadata": {},
   "outputs": [],
   "source": []
  }
 ],
 "metadata": {
  "kernelspec": {
   "display_name": "Python 3",
   "language": "python",
   "name": "python3"
  },
  "language_info": {
   "codemirror_mode": {
    "name": "ipython",
    "version": 3
   },
   "file_extension": ".py",
   "mimetype": "text/x-python",
   "name": "python",
   "nbconvert_exporter": "python",
   "pygments_lexer": "ipython3",
   "version": "3.11.4"
  }
 },
 "nbformat": 4,
 "nbformat_minor": 5
}
