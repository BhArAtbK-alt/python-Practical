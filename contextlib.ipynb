{
  "metadata": {
    "kernelspec": {
      "name": "python",
      "display_name": "Python (Pyodide)",
      "language": "python"
    },
    "language_info": {
      "codemirror_mode": {
        "name": "python",
        "version": 3
      },
      "file_extension": ".py",
      "mimetype": "text/x-python",
      "name": "python",
      "nbconvert_exporter": "python",
      "pygments_lexer": "ipython3",
      "version": "3.8"
    }
  },
  "nbformat_minor": 5,
  "nbformat": 4,
  "cells": [
    {
      "id": "ae2cae8d-ce8a-4aaa-ae2e-57929ad32ade",
      "cell_type": "code",
      "source": "from contextlib import contextmanager\n\n@contextmanager\ndef genericFileFunction (filename, method):\n    file = open (filename, method)\n    yield file\n    file.close ()\n\nif __name__ == '__main__':\n    with genericFileFunction('./X.txt','w') as  f:\n        f.write(\"HELLO\\n\")\n        \n    with genericFileFunction('./X.txt','r') as f:\n        summon = f.read()\n        print('File Content:',summon)\n\n    with genericFileFunction('./X.txt','a') as  f:\n        f.write(\"REaders !!!\\n\")\n    \n    with genericFileFunction('./X.txt', 'r') as f:\n        summon = f.read()\n        print('File content after append:',summon)    \n        \n        \n        \n        ",
      "metadata": {
        "trusted": true
      },
      "outputs": [
        {
          "name": "stdout",
          "output_type": "stream",
          "text": "File Content: HELLO\n\nFile content after append: HELLO\nREaders !!!\n\n"
        }
      ],
      "execution_count": 1
    },
    {
      "id": "24bcd1f9-aef2-4f68-a556-90519154f8f8",
      "cell_type": "code",
      "source": "",
      "metadata": {
        "trusted": true
      },
      "outputs": [],
      "execution_count": null
    },
    {
      "id": "35988306-1315-4b48-aed1-0c6b22a9d1dc",
      "cell_type": "code",
      "source": "",
      "metadata": {
        "trusted": true
      },
      "outputs": [],
      "execution_count": null
    }
  ]
}
